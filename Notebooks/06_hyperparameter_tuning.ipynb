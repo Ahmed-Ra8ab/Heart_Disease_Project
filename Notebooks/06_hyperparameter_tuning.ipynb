{
 "cells": [
  {
   "cell_type": "markdown",
   "id": "019a8be1",
   "metadata": {},
   "source": [
    "## Hyperparameter Tuning & Export Final Model"
   ]
  },
  {
   "cell_type": "code",
   "execution_count": 3,
   "id": "16171a85",
   "metadata": {},
   "outputs": [],
   "source": [
    "import pandas as pd\n",
    "import joblib, json\n",
    "from pathlib import Path\n",
    "from sklearn.model_selection import train_test_split, GridSearchCV, RandomizedSearchCV\n",
    "from sklearn.ensemble import RandomForestClassifier\n",
    "from sklearn.svm import SVC\n",
    "from sklearn.pipeline import Pipeline\n",
    "from sklearn.preprocessing import StandardScaler\n",
    "from sklearn.metrics import (\n",
    "    roc_auc_score, accuracy_score, precision_score,\n",
    "    recall_score, f1_score\n",
    ")"
   ]
  },
  {
   "cell_type": "code",
   "execution_count": 4,
   "id": "b2d03140",
   "metadata": {},
   "outputs": [
    {
     "name": "stderr",
     "output_type": "stream",
     "text": [
      "c:\\Users\\Ahmed\\AppData\\Local\\Programs\\Python\\Python313\\Lib\\site-packages\\sklearn\\model_selection\\_search.py:1135: UserWarning: One or more of the test scores are non-finite: [nan nan nan nan nan nan nan nan nan nan nan nan]\n",
      "  warnings.warn(\n"
     ]
    },
    {
     "name": "stdout",
     "output_type": "stream",
     "text": [
      "RF best AUC: 0.7761120233534027\n",
      "RF best params: {'n_estimators': 600, 'min_samples_split': 5, 'min_samples_leaf': 4, 'max_depth': 6}\n",
      "SVM best AUC: 0.7892952845366639\n",
      "SVM best params: {'svc__C': 0.1, 'svc__gamma': 'scale'}\n",
      "Selected best model: SVM (AUC=0.789)\n",
      "Accuracy: 0.541\n",
      "Precision: 0.293\n",
      "Recall: 0.541\n",
      "F1: 0.380\n",
      "Saved ../models/final_model.pkl\n",
      "Saved ../models/final_model_metrics.json\n"
     ]
    },
    {
     "name": "stderr",
     "output_type": "stream",
     "text": [
      "c:\\Users\\Ahmed\\AppData\\Local\\Programs\\Python\\Python313\\Lib\\site-packages\\sklearn\\model_selection\\_search.py:1135: UserWarning: One or more of the test scores are non-finite: [nan nan nan nan nan nan nan nan nan nan nan nan]\n",
      "  warnings.warn(\n"
     ]
    }
   ],
   "source": [
    "\n",
    "# Load data\n",
    "data = pd.read_csv('../data/selected_features.csv')\n",
    "y = data['target']\n",
    "X = data.drop(columns=['target'])\n",
    "\n",
    "X_train, X_test, y_train, y_test = train_test_split(\n",
    "    X, y, test_size=0.2, random_state=42, stratify=y\n",
    ")\n",
    "\n",
    "# ------------------ Random Forest ------------------\n",
    "rf = RandomForestClassifier(random_state=42)\n",
    "rf_grid = {\n",
    "    \"n_estimators\": [200, 400, 600],\n",
    "    \"max_depth\": [None, 4, 6, 8],\n",
    "    \"min_samples_split\": [2, 5, 10],\n",
    "    \"min_samples_leaf\": [1, 2, 4]\n",
    "}\n",
    "rf_gs = RandomizedSearchCV(\n",
    "    rf, rf_grid, n_iter=12, scoring='roc_auc',\n",
    "    cv=5, random_state=42, n_jobs=-1\n",
    ")\n",
    "rf_gs.fit(X_train, y_train)\n",
    "rf_best = rf_gs.best_estimator_\n",
    "rf_probs = rf_best.predict_proba(X_test)\n",
    "rf_auc = roc_auc_score(y_test, rf_probs, multi_class=\"ovr\")\n",
    "print(\"RF best AUC:\", rf_auc)\n",
    "print(\"RF best params:\", rf_gs.best_params_)\n",
    "\n",
    "# ------------------ SVM ------------------\n",
    "svm_pipe = Pipeline([\n",
    "    ('scaler', StandardScaler()),\n",
    "    ('svc', SVC(probability=True, random_state=42))\n",
    "])\n",
    "svm_grid = {\n",
    "    \"svc__C\": [0.1, 1, 10, 50],\n",
    "    \"svc__gamma\": ['scale', 0.1, 0.01]\n",
    "}\n",
    "svm_gs = GridSearchCV(\n",
    "    svm_pipe, svm_grid, scoring='roc_auc',\n",
    "    cv=5, n_jobs=-1\n",
    ")\n",
    "svm_gs.fit(X_train, y_train)\n",
    "svm_best = svm_gs.best_estimator_\n",
    "svm_probs = svm_best.predict_proba(X_test)\n",
    "svm_auc = roc_auc_score(y_test, svm_probs, multi_class=\"ovr\")\n",
    "print(\"SVM best AUC:\", svm_auc)\n",
    "print(\"SVM best params:\", svm_gs.best_params_)\n",
    "\n",
    "# ------------------ Choose Best Model ------------------\n",
    "if svm_auc >= rf_auc:\n",
    "    best_model = svm_best\n",
    "    best_name = \"SVM\"\n",
    "    best_auc = svm_auc\n",
    "    best_params = svm_gs.best_params_\n",
    "else:\n",
    "    best_model = rf_best\n",
    "    best_name = \"RandomForest\"\n",
    "    best_auc = rf_auc\n",
    "    best_params = rf_gs.best_params_\n",
    "\n",
    "print(f\"Selected best model: {best_name} (AUC={best_auc:.3f})\")\n",
    "\n",
    "# ------------------ Evaluate with More Metrics ------------------\n",
    "preds = best_model.predict(X_test)\n",
    "acc = accuracy_score(y_test, preds)\n",
    "prec = precision_score(y_test, preds, average=\"weighted\", zero_division=0)\n",
    "rec = recall_score(y_test, preds, average=\"weighted\", zero_division=0)\n",
    "f1 = f1_score(y_test, preds, average=\"weighted\", zero_division=0)\n",
    "\n",
    "print(f\"Accuracy: {acc:.3f}\\nPrecision: {prec:.3f}\\nRecall: {rec:.3f}\\nF1: {f1:.3f}\")\n",
    "\n",
    "# ------------------ Save Model & Metrics ------------------\n",
    "Path(\"../models\").mkdir(parents=True, exist_ok=True)\n",
    "\n",
    "joblib.dump(best_model, '../models/final_model.pkl')\n",
    "print(\"Saved ../models/final_model.pkl\")\n",
    "\n",
    "results = {\n",
    "    \"best_model\": best_name,\n",
    "    \"auc\": best_auc,\n",
    "    \"accuracy\": acc,\n",
    "    \"precision\": prec,\n",
    "    \"recall\": rec,\n",
    "    \"f1\": f1,\n",
    "    \"best_params\": best_params\n",
    "}\n",
    "with open(\"../models/final_model_metrics.json\", \"w\") as f:\n",
    "    json.dump(results, f, indent=4)\n",
    "print(\"Saved ../models/final_model_metrics.json\")\n"
   ]
  }
 ],
 "metadata": {
  "kernelspec": {
   "display_name": "Python 3",
   "language": "python",
   "name": "python3"
  },
  "language_info": {
   "codemirror_mode": {
    "name": "ipython",
    "version": 3
   },
   "file_extension": ".py",
   "mimetype": "text/x-python",
   "name": "python",
   "nbconvert_exporter": "python",
   "pygments_lexer": "ipython3",
   "version": "3.13.1"
  }
 },
 "nbformat": 4,
 "nbformat_minor": 5
}
